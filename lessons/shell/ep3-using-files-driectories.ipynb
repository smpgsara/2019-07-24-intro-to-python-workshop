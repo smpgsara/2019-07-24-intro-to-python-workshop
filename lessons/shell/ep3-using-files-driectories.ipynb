{
 "cells": [
  {
   "cell_type": "markdown",
   "metadata": {},
   "source": [
    "# Unix Shell\n",
    "\n",
    "## Episode 3 - Working with Files and Directories\n",
    "\n",
    "Teaching: 30 min, \n",
    "Exercises: 20 min\n",
    "\n",
    "*How can I create, copy, and delete files and directories?*\n",
    "\n",
    "*How can I edit files?*\n"
   ]
  },
  {
   "cell_type": "markdown",
   "metadata": {},
   "source": [
    "## Objectives\n",
    "- Create a directory hierarchy that matches a given diagram.\n",
    "\n",
    "- Create files in that hierarchy using an editor or by copying and renaming existing files.\n",
    "\n",
    "- Delete, copy and move specified files and/or directories."
   ]
  },
  {
   "cell_type": "markdown",
   "metadata": {},
   "source": [
    "## Creating directories\n",
    "We now know how to explore files and directories, but how do we create them in the first place?\n",
    "\n",
    "Step one: see where we are and what we already have\n",
    "Let’s go back to our data-shell directory on and use `ls -F` to see what it contains:\n",
    "```\n",
    "$ cd /home/jovyan/lessons/shell/data-shell/data\n",
    "$ pwd\n",
    "/home/jovyan/lessons/shell/data-shell/data\n",
    "$ ls -F\n",
    "creatures/  data/  molecules/  north-pacific-gyre/  notes.txt  pizza.cfg  solar.pdf  writing/\n",
    "```"
   ]
  },
  {
   "cell_type": "markdown",
   "metadata": {},
   "source": [
    "### Create a directory\n",
    "Let’s create a new directory called thesis using the command `mkdir thesis` (which has no output):\n",
    "```\n",
    "$ mkdir thesis\n",
    "```"
   ]
  },
  {
   "cell_type": "markdown",
   "metadata": {},
   "source": [
    "As you might guess from its name, `mkdir` means “make directory”. Since thesis is a relative path (i.e., does not have a leading slash, like `/what/ever/thesis`), the new directory is created in the current working directory:\n",
    "```\n",
    "$ ls -F\n",
    "creatures/  data/  molecules/  north-pacific-gyre/  notes.txt  pizza.cfg  solar.pdf  thesis/  writing/\n",
    "```\n",
    "Two ways of doing the same thing\n",
    "Using the shell to create a directory is no different than using a file explorer. If you open the current directory using your operating system’s graphical file explorer, the `thesis` directory will appear there too. While the shell and the file explorer are two different ways of interacting with the files, the files and directories themselves are the same."
   ]
  },
  {
   "cell_type": "markdown",
   "metadata": {},
   "source": [
    "### Good names for files and directories\n",
    "Complicated names of files and directories can make your life painful when working on the command line. Here we provide a few useful tips for the names of your files.\n",
    "\n",
    "#### Don’t use spaces\n",
    "\n",
    "Spaces can make a name more meaningful, but since spaces are used to separate arguments on the command line it is better to avoid them in names of files and directories. You can use `-` or `_` instead (e.g. `north-pacific-gyre/` rather than `north pacific gyre/`).\n",
    "\n",
    "#### Don’t begin the name with `-` (dash).\n",
    "\n",
    "Commands treat names starting with `-` as options.\n",
    "\n",
    "Stick with letters, numbers, `.` (period or ‘full stop’), - (dash) and _ (underscore).\n",
    "\n",
    "Many other characters have special meanings on the command line. We will learn about some of these during this lesson. There are special characters that can cause your command to not work as expected and can even result in data loss.\n",
    "\n",
    "If you need to refer to names of files or directories that have spaces or other special characters, you should surround the name in quotes (\"\")."
   ]
  },
  {
   "cell_type": "markdown",
   "metadata": {},
   "source": [
    "Since we’ve just created the thesis directory, there’s nothing in it yet:\n",
    "```\n",
    "$ ls -F thesis\n",
    "```"
   ]
  },
  {
   "cell_type": "markdown",
   "metadata": {},
   "source": [
    "### Creating a text file\n",
    "Let’s change our working directory to thesis using `cd`, then run a text editor called Nano to create a file called `draft.txt`:\n",
    "```\n",
    "$ cd thesis\n",
    "$ nano draft.txt\n",
    "```"
   ]
  },
  {
   "cell_type": "markdown",
   "metadata": {},
   "source": [
    "*Which Editor?*\n",
    "\n",
    "*When we say, “nano is a text editor,” we really do mean “text”: it can only work with plain character data, not tables, images, or any other human-friendly media. We use it in examples because it is one of the least complex text editors. However, because of this trait, it may not be powerful enough or flexible enough for the work you need to do after this workshop. On Unix systems (such as Linux and Mac OS), many programmers use `Emacs` or `Vim` (both of which require more time to learn), or a graphical editor such as `Gedit`. On Windows, you may wish to use `Notepad++`. Windows also has a built-in editor called `Notepad` that can be run from the command line in the same way as nano for the purposes of this lesson.*\n",
    "\n",
    "*No matter what editor you use, you will need to know where it searches for and saves files. If you start it from the shell, it will (probably) use your current working directory as its default location. If you use your computer’s start menu, it may want to save files in your desktop or documents directory instead. You can change this by navigating to another directory the first time you “Save As…”*"
   ]
  },
  {
   "cell_type": "markdown",
   "metadata": {},
   "source": [
    "Let’s type in a few lines of text. Once we’re happy with our text, we can press `Ctrl`+`O` (press the `Ctrl` or `Control` key and, while holding it down, press the `O` key) to save our data to disk (we’ll be asked what file we want to save this to: press `Return` to accept the suggested default of `draft.txt`).\n",
    "\n",
    "\n",
    "Once our file is saved, we can use `Ctrl`-`X` to quit the editor and return to the shell."
   ]
  },
  {
   "cell_type": "markdown",
   "metadata": {},
   "source": [
    "#### Control, Ctrl, or ^ Key\n",
    "The `Control` key is also called the `Ctrl` key. There are various ways in which using the `Control` key may be described. For example, you may see an instruction to press the `Control` key and, while holding it down, press the `X` key, described as any of:\n",
    "\n",
    "`Control-X`\n",
    "\n",
    "`Control+X`\n",
    "\n",
    "`Ctrl-X`\n",
    "\n",
    "`Ctrl+X`\n",
    "\n",
    "`^X`\n",
    "\n",
    "`C-x`\n",
    "\n",
    "In nano, along the bottom of the screen you’ll see `^G` Get Help `^O` WriteOut. This means that you can use `Control-G` to get help and `Control-O` to save your file."
   ]
  },
  {
   "cell_type": "markdown",
   "metadata": {},
   "source": [
    "nano doesn’t leave any output on the screen after it exits, but `ls` now shows that we have created a file called `draft.txt`:\n",
    "```\n",
    "$ ls\n",
    "draft.txt\n",
    "```"
   ]
  },
  {
   "cell_type": "markdown",
   "metadata": {},
   "source": [
    "#### Creating Files a Different Way\n",
    "We have seen how to create text files using the `nano` editor. Now, try the following command:\n",
    "```\n",
    "$ touch my_file.txt\n",
    "```\n",
    "What did the touch command do? When you look at your current directory using the GUI file explorer, does the file show up?\n",
    "\n",
    "Use `ls -l` to inspect the files. How large is `my_file.txt` ?"
   ]
  },
  {
   "cell_type": "markdown",
   "metadata": {},
   "source": [
    "#### When might you want to create a file this way?"
   ]
  },
  {
   "cell_type": "markdown",
   "metadata": {},
   "source": [
    "*Solution*\n",
    "\n",
    "The `touch` command generates a new file called `my_file.txt` in your current directory. You can observe this newly generated file by typing `ls` at the command line prompt. `my_file.txt` can also be viewed in your GUI file explorer.\n",
    "\n",
    "When you inspect the file with `ls -l`, note that the size of `my_file.txt` is 0 bytes. In other words, it contains no data. If you open `my_file.txt` using your text editor it is empty.\n",
    "\n",
    "Some programs do not generate output files themselves, but instead require that empty files have already been generated. When the program is run, it searches for an existing file to populate with its output. The `touch` command allows you to efficiently generate a blank text file to be used by such programs."
   ]
  },
  {
   "cell_type": "markdown",
   "metadata": {},
   "source": [
    "#### What’s In A Name?\n",
    "You may have noticed that all of Nelle’s files are named “something dot something”, and in this part of the lesson, we always used the extension `.txt`. This is just a convention: we can call a file `mythesis` or almost anything else we want. However, most people use two-part names most of the time to help them (and their programs) tell different kinds of files apart. The second part of such a name is called the *filename extension*, and indicates what type of data the file holds: `.txt` signals a plain text file, `.pdf` indicates a PDF document, `.cfg` is a configuration file full of parameters for some program or other, `.png` is a PNG image, and so on.\n",
    "\n",
    "This is just a convention, albeit an important one. Files contain bytes: it’s up to us and our programs to interpret those bytes according to the rules for plain text files, PDF documents, configuration files, images, and so on.\n",
    "\n",
    "Naming a PNG image of a whale as `whale.mp3` doesn’t somehow magically turn it into a recording of whalesong, though it might cause the operating system to try to open it with a music player when someone double-clicks it."
   ]
  },
  {
   "cell_type": "markdown",
   "metadata": {},
   "source": [
    "### Moving files and directories\n",
    "Returning to the data-shell directory,\n",
    "```\n",
    "cd ~/lessons/shell/data-shell/\n",
    "```\n",
    "In our `thesis` directory we have a file `draft.txt` which isn’t a particularly informative name, so let’s change the file’s name using `mv`, which is short for “move”:\n",
    "```\n",
    "$ mv thesis/draft.txt thesis/quotes.txt\n",
    "```\n",
    "The first argument tells `mv` what we’re “moving”, while the second is where it’s to go. In this case, we’re moving `thesis/draft.txt` to `thesis/quotes.txt`, which has the same effect as renaming the file. Sure enough, `ls` shows us that thesis now contains one file called `quotes.txt`:\n",
    "```\n",
    "$ ls thesis\n",
    "quotes.txt\n",
    "```"
   ]
  },
  {
   "cell_type": "markdown",
   "metadata": {},
   "source": [
    "One has to be careful when specifying the target file name, since `mv` will silently overwrite any existing file with the same name, which could lead to data loss. An additional option, `-i` (or `--interactive`), can be used to make `mv` ask you for confirmation before overwriting.\n",
    "\n",
    "Note that `mv` also works on directories."
   ]
  },
  {
   "cell_type": "markdown",
   "metadata": {},
   "source": [
    "Let’s move `quotes.txt` into the current working directory. We use `mv` once again, but this time we’ll just use the name of a directory as the second argument to tell `mv` that we want to keep the filename, but put the file somewhere new. (This is why the command is called “move”.) In this case, the directory name we use is the special directory name `.` that we mentioned earlier.\n",
    "```\n",
    "$ mv thesis/quotes.txt .\n",
    "```\n",
    "The effect is to move the file from the directory it was in to the current working directory. ls now shows us that thesis is empty:\n",
    "```\n",
    "$ ls thesis\n",
    "```"
   ]
  },
  {
   "cell_type": "markdown",
   "metadata": {},
   "source": [
    "Further, `ls` with a filename or directory name as an argument only lists that file or directory. We can use this to see that `quotes.txt` is still in our current directory:\n",
    "```\n",
    "$ ls quotes.txt\n",
    "quotes.txt\n",
    "```"
   ]
  },
  {
   "cell_type": "markdown",
   "metadata": {},
   "source": [
    "## Exercises\n",
    "---"
   ]
  },
  {
   "cell_type": "markdown",
   "metadata": {},
   "source": [
    "### Moving to the Current Folder\n",
    "After running the following commands, Jamie realizes that she put the files `sucrose.dat` and `maltose.dat` into the wrong folder:\n",
    "```\n",
    "$ ls -F\n",
    " analyzed/ raw/\n",
    "\n",
    "$ ls -F analyzed\n",
    "fructose.dat glucose.dat maltose.dat sucrose.dat\n",
    "$ cd raw/\n",
    "```\n",
    "\n",
    "Fill in the blanks to move these files to the current folder (i.e., the one she is currently in):\n",
    "```\n",
    "$ mv ___/sucrose.dat  ___/maltose.dat ___\n",
    "```"
   ]
  },
  {
   "cell_type": "markdown",
   "metadata": {},
   "source": [
    "#### Solution\n",
    "```\n",
    "$ mv ../analyzed/sucrose.dat ../analyzed/maltose.dat .\n",
    "```\n",
    "Recall that `..` refers to the parent directory (i.e. one above the current directory) and that `.` refers to the current directory."
   ]
  },
  {
   "cell_type": "markdown",
   "metadata": {},
   "source": [
    "### Copying files and directories\n",
    "The `cp` command works very much like `mv`, except it copies a file instead of moving it. We can check that it did the right thing using `ls` with two paths as arguments — like most Unix commands, `ls` can be given multiple paths at once:\n",
    "```\n",
    "$ cp quotes.txt thesis/quotations.txt\n",
    "$ ls quotes.txt thesis/quotations.txt\n",
    "quotes.txt   thesis/quotations.txt\n",
    "```\n",
    "We can also copy a directory and all its contents by using the recursive option `-r`, e.g. to back up a directory:\n",
    "```\n",
    "$ cp -r thesis thesis_backup\n",
    "```\n",
    "We can check the result by listing the contents of both the thesis and thesis_backup directory:\n",
    "````\n",
    "$ ls thesis thesis_backup\n",
    "thesis:\n",
    "quotations.txt\n",
    "\n",
    "thesis_backup:\n",
    "quotations.txt\n",
    "Renaming Files\n",
    "```\n",
    "Suppose that you created a plain-text file in your current directory to contain a list of the statistical tests you will need to do to analyze your data, and named it: `statstics.txt`\n",
    "\n",
    "After creating and saving this file you realize you misspelled the filename! You want to correct the mistake, which of the following commands could you use to do so?\n",
    "```\n",
    "cp statstics.txt statistics.txt\n",
    "mv statstics.txt statistics.txt\n",
    "mv statstics.txt .\n",
    "cp statstics.txt .\n",
    "```"
   ]
  },
  {
   "cell_type": "markdown",
   "metadata": {},
   "source": [
    "#### Solution\n",
    "No. While this would create a file with the correct name, the incorrectly named file still exists in the directory and would need to be deleted.\n",
    "\n",
    "Yes, this would work to rename the file.\n",
    "\n",
    "No, the period(.) indicates where to move the file, but does not provide a new file name; identical file names cannot be created.\n",
    "\n",
    "No, the period(.) indicates where to copy the file, but does not provide a new file name; identical file names cannot be created."
   ]
  },
  {
   "cell_type": "markdown",
   "metadata": {},
   "source": [
    "### Moving and Copying\n",
    "\n",
    "What is the output of the closing 'ls' command in the sequence shown below?\n",
    "```\n",
    "$ pwd\n",
    "/Users/jamie/data\n",
    "$ ls\n",
    "proteins.dat\n",
    "$ mkdir recombine\n",
    "$ mv proteins.dat recombine/\n",
    "$ cp recombine/proteins.dat ../proteins-saved.dat\n",
    "$ ls\n",
    "```\n",
    "Options:\n",
    "\n",
    "- proteins-saved.dat recombine\n",
    "- recombine\n",
    "- proteins.dat recombine\n",
    "- proteins-saved.dat"
   ]
  },
  {
   "cell_type": "markdown",
   "metadata": {},
   "source": [
    "#### Solution\n",
    "We start in the `/Users/jamie/data` directory, and create a new folder called `recombine`. The second line moves (mv) the file `proteins.dat` to the new folder (recombine). The third line makes a copy of the file we just moved. The tricky part here is where the file was copied to. Recall that `..` means “go up a level”, so the copied file is now in `/Users/jamie`. Notice that `..` is interpreted with respect to the current working directory, not with respect to the location of the file being copied. So, the only thing that will show using `ls` (in `/Users/jamie/data`) is the `recombine` folder.\n",
    "\n",
    "- No, see explanation above. proteins-saved.dat is located at /Users/jamie\n",
    "- Yes\n",
    "- No, see explanation above. proteins.dat is located at /Users/jamie/data/recombine\n",
    "- No, see explanation above. proteins-saved.dat is located at /Users/jamie"
   ]
  },
  {
   "cell_type": "markdown",
   "metadata": {},
   "source": [
    "### Removing files and directories\n",
    "Returning to the `data-shell` directory, let’s tidy up this directory by removing the `quotes.txt` file we created. The Unix command we’ll use for this is `rm` (short for ‘remove’):\n",
    "```\n",
    "$ rm quotes.txt\n",
    "```\n",
    "We can confirm the file has gone using `ls`:\n",
    "```\n",
    "$ ls quotes.txt\n",
    "ls: cannot access 'quotes.txt': No such file or directory\n",
    "```"
   ]
  },
  {
   "cell_type": "markdown",
   "metadata": {},
   "source": [
    "### Deleting Is Forever\n",
    "The Unix shell doesn’t have a trash bin that we can recover deleted files from (though most graphical interfaces to Unix do). Instead, when we delete files, they are unlinked from the file system so that their storage space on disk can be recycled. Tools for finding and recovering deleted files do exist, but there’s no guarantee they’ll work in any particular situation, since the computer may recycle the file’s disk space right away.\n",
    "\n",
    "#### Using rm Safely\n",
    "What happens when we execute `rm -i thesis_backup/quotations.txt`? Why would we want this protection when using `rm`?"
   ]
  },
  {
   "cell_type": "markdown",
   "metadata": {},
   "source": [
    "#### Solution\n",
    "```\n",
    "$ rm: remove regular file 'thesis_backup/quotations.txt'? y\n",
    "```\n",
    "The `-i` option will prompt before (every) removal (use `Y` to confirm deletion or `N` to keep the file). The Unix shell doesn’t have a trash bin, so all the files removed will disappear forever. By using the `-i` option, we have the chance to check that we are deleting only the files that we want to remove."
   ]
  },
  {
   "cell_type": "markdown",
   "metadata": {},
   "source": [
    "### Removing directories\n",
    "If we try to remove the thesis directory using `rm thesis`, we get an error message:\n",
    "```\n",
    "$ rm thesis\n",
    "rm: cannot remove `thesis': Is a directory\n",
    "This happens because rm by default only works on files, not directories.\n",
    "```\n",
    "`rm` can remove a directory and all its contents if we use the recursive option `-r`, and it will do so without any confirmation prompts:\n",
    "```\n",
    "$ rm -r thesis\n",
    "```\n",
    "\n",
    "Given that there is no way to retrieve files deleted using the shell, `rm -r` should be used with great caution (you might consider adding the interactive option `rm -r -i`)."
   ]
  },
  {
   "cell_type": "markdown",
   "metadata": {},
   "source": [
    "### Operations with multiple files and directories\n",
    "Oftentimes one needs to copy or move several files at once. This can be done by providing a list of individual filenames, or specifying a naming pattern using wildcards.\n",
    "\n",
    "#### Copy with Multiple Filenames\n",
    "For this exercise, you can test the commands in the `data-shell/data` directory.\n",
    "\n",
    "In the example below, what does `cp` do when given several filenames and a directory name?\n",
    "```\n",
    "$ mkdir backup\n",
    "$ cp amino-acids.txt animals.txt backup/\n",
    "```\n",
    "\n",
    "In the example below, what does `cp` do when given three or more file names?\n",
    "```\n",
    "$ ls -F\n",
    "amino-acids.txt  animals.txt  backup/  elements/  morse.txt  pdb/  planets.txt  salmon.txt  sunspot.txt\n",
    "$ cp amino-acids.txt animals.txt morse.txt \n",
    "```"
   ]
  },
  {
   "cell_type": "markdown",
   "metadata": {},
   "source": [
    "#### Solution\n",
    "If given more than one file name followed by a directory name (i.e. the destination directory must be the last argument), `cp` copies the files to the named directory.\n",
    "\n",
    "If given three file names, `cp` throws an error such as the one below, because it is expecting a directory name as the last argument.\n",
    "```\n",
    "cp: target ‘morse.txt’ is not a directory\n",
    "```"
   ]
  },
  {
   "cell_type": "markdown",
   "metadata": {},
   "source": [
    "### Using wildcards for accessing multiple files at once\n",
    "\n",
    "#### Wildcards\n",
    "`*` is a wildcard, which matches zero or more characters. Let’s consider the `data-shell/molecules` directory: `*.pdb` matches `ethane.pdb`, `propane.pdb`, and every file that ends with `.pdb`. On the other hand, `p*.pdb` only matches `pentane.pdb` and `propane.pdb`, because the `p` at the front only matches filenames that begin with the letter `p`.\n",
    "\n",
    "`?` is also a wildcard, but it matches exactly one character. So `?ethane.pdb` would match `methane.pdb` whereas `*ethane.pdb` matches both `ethane.pdb`, and `methane.pdb`.\n",
    "\n",
    "Wildcards can be used in combination with each other e.g. `???ane.pdb` matches three characters followed by `ane.pdb`, giving `cubane.pdb` `ethane.pdb` `octane.pdb`.\n",
    "\n",
    "When the shell sees a wildcard, it expands the wildcard to create a list of matching filenames before running the command that was asked for. As an exception, if a wildcard expression does not match any file, Bash will pass the expression as an argument to the command as it is. For example typing `ls *.pdf` in the molecules directory (which contains only files with names ending with `.pdb`) results in an error message that there is no file called `*.pdf`. However, generally commands like `wc` and `ls` see the lists of file names matching these expressions, but not the wildcards themselves. It is the shell, not the other programs, that deals with expanding wildcards, and this is another example of orthogonal design."
   ]
  },
  {
   "cell_type": "markdown",
   "metadata": {},
   "source": [
    "### List filenames matching a pattern\n",
    "When run in the `molecules` directory, which `ls` command(s) will produce this output?\n",
    "```\n",
    "ethane.pdb methane.pdb\n",
    "```\n",
    "- ls *t*ane.pdb\n",
    "- ls *t?ne.*\n",
    "- ls *t??ne.pdb\n",
    "- ls ethane.*"
   ]
  },
  {
   "cell_type": "markdown",
   "metadata": {},
   "source": [
    "#### Solution\n",
    "The solution is 3.\n",
    "\n",
    "1. shows all files whose names contain zero or more characters `*` followed by the letter t, then zero or more characters `*` followed by ane.pdb. This gives \n",
    "`ethane.pdb methane.pdb` `octane.pdb` `pentane.pdb`\n",
    "\n",
    "2. shows all files whose names start with zero or more characters `*` followed by the letter t, then a single character (?), then ne. followed by zero or more characters `*`. This will give us octane.pdb and pentane.pdb but doesn’t match anything which ends in `thane.pdb`.\n",
    "\n",
    "3. fixes the problems of option 2 by matching two characters (??) between `t` and `ne`. \n",
    "\n",
    "4. only shows files starting with `ethane.`."
   ]
  },
  {
   "cell_type": "markdown",
   "metadata": {},
   "source": [
    "#### More on Wildcards\n",
    "Sam has a directory containing calibration data, datasets, and descriptions of the datasets:\n",
    "````\n",
    ".\n",
    "├── 2015-10-23-calibration.txt\n",
    "├── 2015-10-23-dataset1.txt\n",
    "├── 2015-10-23-dataset2.txt\n",
    "├── 2015-10-23-dataset_overview.txt\n",
    "├── 2015-10-26-calibration.txt\n",
    "├── 2015-10-26-dataset1.txt\n",
    "├── 2015-10-26-dataset2.txt\n",
    "├── 2015-10-26-dataset_overview.txt\n",
    "├── 2015-11-23-calibration.txt\n",
    "├── 2015-11-23-dataset1.txt\n",
    "├── 2015-11-23-dataset2.txt\n",
    "├── 2015-11-23-dataset_overview.txt\n",
    "├── backup\n",
    "│   ├── calibration\n",
    "│   └── datasets\n",
    "└── send_to_bob\n",
    "    ├── all_datasets_created_on_a_23rd\n",
    "    └── all_november_files\n",
    "```\n",
    "Before heading off to another field trip, she wants to back up her data and send some datasets to her colleague Bob. Sam uses the following commands to get the job done:\n",
    "```\n",
    "$ cp *dataset* backup/datasets\n",
    "$ cp ____calibration____ backup/calibration\n",
    "$ cp 2015-____-____ send_to_bob/all_november_files/\n",
    "$ cp ____ send_to_bob/all_datasets_created_on_a_23rd/\n",
    "```\n",
    "Help Sam by filling in the blanks.\n",
    "\n",
    "The resulting directory structure should look like this\n",
    "```\n",
    ".\n",
    "├── 2015-10-23-calibration.txt\n",
    "├── 2015-10-23-dataset1.txt\n",
    "├── 2015-10-23-dataset2.txt\n",
    "├── 2015-10-23-dataset_overview.txt\n",
    "├── 2015-10-26-calibration.txt\n",
    "├── 2015-10-26-dataset1.txt\n",
    "├── 2015-10-26-dataset2.txt\n",
    "├── 2015-10-26-dataset_overview.txt\n",
    "├── 2015-11-23-calibration.txt\n",
    "├── 2015-11-23-dataset1.txt\n",
    "├── 2015-11-23-dataset2.txt\n",
    "├── 2015-11-23-dataset_overview.txt\n",
    "├── backup\n",
    "│   ├── calibration\n",
    "│   │   ├── 2015-10-23-calibration.txt\n",
    "│   │   ├── 2015-10-26-calibration.txt\n",
    "│   │   └── 2015-11-23-calibration.txt\n",
    "│   └── datasets\n",
    "│       ├── 2015-10-23-dataset1.txt\n",
    "│       ├── 2015-10-23-dataset2.txt\n",
    "│       ├── 2015-10-23-dataset_overview.txt\n",
    "│       ├── 2015-10-26-dataset1.txt\n",
    "│       ├── 2015-10-26-dataset2.txt\n",
    "│       ├── 2015-10-26-dataset_overview.txt\n",
    "│       ├── 2015-11-23-dataset1.txt\n",
    "│       ├── 2015-11-23-dataset2.txt\n",
    "│       └── 2015-11-23-dataset_overview.txt\n",
    "└── send_to_bob\n",
    "    ├── all_datasets_created_on_a_23rd\n",
    "    │   ├── 2015-10-23-dataset1.txt\n",
    "    │   ├── 2015-10-23-dataset2.txt\n",
    "    │   ├── 2015-10-23-dataset_overview.txt\n",
    "    │   ├── 2015-11-23-dataset1.txt\n",
    "    │   ├── 2015-11-23-dataset2.txt\n",
    "    │   └── 2015-11-23-dataset_overview.txt\n",
    "    └── all_november_files\n",
    "        ├── 2015-11-23-calibration.txt\n",
    "        ├── 2015-11-23-dataset1.txt\n",
    "        ├── 2015-11-23-dataset2.txt\n",
    "        └── 2015-11-23-dataset_overview.txt\n",
    "```"
   ]
  },
  {
   "cell_type": "markdown",
   "metadata": {},
   "source": [
    "#### Solution\n",
    "```\n",
    "$ cp *calibration.txt backup/calibration\n",
    "$ cp 2015-11-* send_to_bob/all_november_files/\n",
    "$ cp *-23-dataset* send_to_bob/all_datasets_created_on_a_23rd/\n",
    "```"
   ]
  },
  {
   "cell_type": "markdown",
   "metadata": {},
   "source": [
    "### Organising Directories and Files\n",
    "Jamie is working on a project and she sees that her files aren’t very well organized:\n",
    "```\n",
    "$ ls -F\n",
    "analyzed/  fructose.dat    raw/   sucrose.dat\n",
    "```\n",
    "The `fructose.dat` and `sucrose.dat` files contain output from her data analysis. What command(s) covered in this lesson does she need to run so that the commands below will produce the output shown?\n",
    "```\n",
    "$ ls -F\n",
    "analyzed/   raw/\n",
    "$ ls analyzed\n",
    "fructose.dat    sucrose.dat\n",
    "```"
   ]
  },
  {
   "cell_type": "markdown",
   "metadata": {},
   "source": [
    "#### Solution\n",
    "```\n",
    "mv *.dat analyzed\n",
    "```\n",
    "Jamie needs to move her files `fructose.dat` and s`ucrose.dat` to the analyzed directory. The shell will expand `*.dat` to match all `.dat` files in the current directory. The `mv` command then moves the list of `.dat` files to the `analyzed` directory."
   ]
  },
  {
   "cell_type": "markdown",
   "metadata": {},
   "source": [
    "### Reproduce a folder structure\n",
    "You’re starting a new experiment, and would like to duplicate the directory structure from your previous experiment so you can add new data.\n",
    "\n",
    "Assume that the previous experiment is in a folder called `2016-05-18`, which contains a `data` folder that in turn contains folders named `raw` and `processed` that contain data files. The goal is to copy the folder structure of the `2016-05-18-data` folder into a folder called `2016-05-20` so that your final directory structure looks like this:\n",
    "```\n",
    "2016-05-20/\n",
    "└── data\n",
    "    ├── processed\n",
    "    └── raw\n",
    "```"
   ]
  },
  {
   "cell_type": "markdown",
   "metadata": {},
   "source": [
    "Which of the following set of commands would achieve this objective? What would the other commands do?\n",
    "```\n",
    "$ mkdir 2016-05-20\n",
    "$ mkdir 2016-05-20/data\n",
    "$ mkdir 2016-05-20/data/processed\n",
    "$ mkdir 2016-05-20/data/raw\n",
    "\n",
    "$ mkdir 2016-05-20\n",
    "$ cd 2016-05-20\n",
    "$ mkdir data\n",
    "$ cd data\n",
    "$ mkdir raw processed\n",
    "\n",
    "$ mkdir 2016-05-20/data/raw\n",
    "$ mkdir 2016-05-20/data/processed\n",
    "\n",
    "$ mkdir 2016-05-20\n",
    "$ cd 2016-05-20\n",
    "$ mkdir data\n",
    "$ mkdir raw processed\n",
    "```"
   ]
  },
  {
   "cell_type": "markdown",
   "metadata": {},
   "source": [
    "#### Solution\n",
    "The first two sets of commands achieve this objective. The first set uses relative paths to create the top level directory before the subdirectories.\n",
    "\n",
    "The third set of commands will give an error because `mkdir` won’t create a subdirectory of a non-existant directory: the intermediate level folders must be created first.\n",
    "\n",
    "The final set of commands generates the ‘raw’ and ‘processed’ directories at the same level as the ‘data’ directory."
   ]
  },
  {
   "cell_type": "markdown",
   "metadata": {},
   "source": [
    "## Key Points\n",
    "- `cp` old new copies a file.\n",
    "\n",
    "- `mkdir path` creates a new directory.\n",
    "\n",
    "- `mv old new` moves (renames) a file or directory.\n",
    "\n",
    "- `rm path` removes (deletes) a file.\n",
    "\n",
    "- `*` matches zero or more characters in a filename, so `*.txt` matches all files ending in `.txt`.\n",
    "\n",
    "- `?` matches any single character in a filename, so `?.txt` matches `a.txt` but not `any.txt`.\n",
    "\n",
    "- Use of the `Control` key may be described in many ways, including `Ctrl-X`, `Control-X`, and `^X`.\n",
    "\n",
    "- The shell does not have a trash bin: once something is deleted, it’s really gone.\n",
    "\n",
    "- Most files’ names are something.extension. The extension isn’t required, and doesn’t guarantee anything, but is normally used to indicate the type of data in the file.\n",
    "\n",
    "- Depending on the type of work you do, you may need a more powerful text editor than `Nano`.\n"
   ]
  },
  {
   "cell_type": "code",
   "execution_count": null,
   "metadata": {},
   "outputs": [],
   "source": []
  }
 ],
 "metadata": {
  "kernelspec": {
   "display_name": "Python 3",
   "language": "python",
   "name": "python3"
  },
  "language_info": {
   "codemirror_mode": {
    "name": "ipython",
    "version": 3
   },
   "file_extension": ".py",
   "mimetype": "text/x-python",
   "name": "python",
   "nbconvert_exporter": "python",
   "pygments_lexer": "ipython3",
   "version": "3.7.3"
  }
 },
 "nbformat": 4,
 "nbformat_minor": 2
}
