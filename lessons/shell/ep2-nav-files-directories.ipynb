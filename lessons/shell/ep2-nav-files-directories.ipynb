{
 "cells": [
  {
   "cell_type": "markdown",
   "metadata": {},
   "source": [
    "\n",
    "# Unix Shell\n",
    "\n",
    "## Episode 2 - Navigating Files and Directorie\n",
    "\n",
    "Teaching: 30 min, \n",
    "Exercises: 10 min\n",
    "\n",
    "\n",
    "*How can I move around on my computer?*\n",
    "\n",
    "*How can I see what files and directories I have?*\n",
    "\n",
    "*How can I specify the location of a file or directory on my computer?*"
   ]
  },
  {
   "cell_type": "markdown",
   "metadata": {},
   "source": [
    "## Objectives\n",
    "- Explain the similarities and differences between a file and a directory.\n",
    "\n",
    "- Translate an absolute path into a relative path and vice versa.\n",
    "\n",
    "- Construct absolute and relative paths that identify specific files and directories.\n",
    "\n",
    "- Demonstrate the use of tab completion, and explain its advantages."
   ]
  },
  {
   "cell_type": "markdown",
   "metadata": {},
   "source": [
    "The part of the operating system responsible for managing files and directories is called the *file system*. It organizes our data into *files*, which hold information, and *directories* (also called “folders”), which hold files or other directories.\n",
    "\n",
    "Several commands are frequently used to create, inspect, rename, and delete files and directories. To start exploring them, we’ll go to our open shell window."
   ]
  },
  {
   "cell_type": "markdown",
   "metadata": {},
   "source": [
    "First let’s find out where we are by running a command called pwd (which stands for “print working directory”). Directories are like places - at any time while we are using the shell we are in exactly one place, called our current working directory. Commands mostly read and write files in the current working directory, i.e. “here”, so knowing where you are before running a command is important. pwd shows you where you are:\n",
    "```\n",
    "$ pwd\n",
    "/Users/nelle\n",
    "```\n",
    "Here, the computer’s response is `/users/nelle`, which is Jovyan’s home directory:"
   ]
  },
  {
   "cell_type": "markdown",
   "metadata": {},
   "source": [
    "### Home Directory Variation\n",
    "The home directory path will look different on different operating systems. On Linux it may look like `/home/nell`e, and on Windows it will be similar to `C:\\Documents and Settings\\nelle` or `C:\\Users\\nelle`. (Note that it may look slightly different for different versions of Windows.) In future examples, we’ve used Mac output as the default - Linux and Windows output may differ slightly, but should be generally similar.\n",
    "\n",
    "To understand what a *home directory* is, let’s have a look at how the file system as a whole is organized. For the sake of this example, we’ll be illustrating the filesystem on our scientist Nelle’s computer. After this illustration, you’ll be learning commands to explore your own filesystem, which will be constructed in a similar way, but not be exactly identical."
   ]
  },
  {
   "cell_type": "markdown",
   "metadata": {},
   "source": [
    "## The File System\n",
    "On Nelle’s computer, the filesystem looks like this:\n",
    "```\n",
    "/\n",
    "├── bin\n",
    "├── data\n",
    "├── tmp\n",
    "└── Users\n",
    "```\n",
    "\n",
    "At the top is the *root* directory that holds everything else. We refer to it using a slash character, `/`, on its own; this is the leading slash in `/Users/nelle`."
   ]
  },
  {
   "cell_type": "markdown",
   "metadata": {},
   "source": [
    "Inside that directory are several other directories: `bin` (which is where some built-in programs are stored), `data` (for miscellaneous data files), `Users` (where users’ personal directories are located), `tmp` (for temporary files that don’t need to be stored long-term), and so on.\n",
    "\n",
    "We know that our current working directory `/Users/nelle` is stored inside `/Users` because `/Users` is the first part of its name. Similarly, we know that `/Users` is stored inside the root directory `/` because its name begins with `/`."
   ]
  },
  {
   "cell_type": "markdown",
   "metadata": {},
   "source": [
    "### Slashes\n",
    "Notice that there are two meanings for the `/` character. When it appears at the front of a file or directory name, it refers to the root directory. When it appears inside a name, it’s just a separator."
   ]
  },
  {
   "cell_type": "markdown",
   "metadata": {},
   "source": [
    "Underneath `/User`s, we find one directory for each user with an account on Nelle’s machine, her colleagues `imhotep` and `larry`.\n",
    "```\n",
    ".\n",
    "├── bin\n",
    "├── data\n",
    "├── tmp\n",
    "└── Users\n",
    "    ├── imhotep\n",
    "    ├── larry\n",
    "    └── nelle\n",
    "```"
   ]
  },
  {
   "cell_type": "markdown",
   "metadata": {},
   "source": [
    "### Home Directories\n",
    "\n",
    "The user `imhotep`’s files are stored in `/Users/imhotep`, user `larry`’s in `/Users/larry`, and `nelle`’s in `/Users/nelle`. Because Nelle is the user in our examples here, this is why we get `/Users/nelle` as our home directory. Typically, when you open a new command prompt you will be in your home directory to start."
   ]
  },
  {
   "cell_type": "markdown",
   "metadata": {},
   "source": [
    "### Listing Files and Directories\n",
    "Now let’s learn the command that will let us see the contents of our own filesystem. We can see what’s in our home directory by running `ls`, which stands for “listing”:\n",
    "```\n",
    "$ ls\n",
    "Applications Documents    Library      Music        Public\n",
    "Desktop      Downloads    Movies       Pictures\n",
    "```\n",
    "(Again, your results may be slightly different depending on your operating system and how you have customized your filesystem.)"
   ]
  },
  {
   "cell_type": "markdown",
   "metadata": {},
   "source": [
    "`ls` prints the names of the files and directories in the current directory. We can make its output more comprehensible by using the `-F`option (also known as a switch or a flag) , which tells ls to classify the output by adding a marker to file and directory names to indicate what they are:\n",
    "\n",
    "a trailing `/` indicates that this is a directory\n",
    "`@` indicates a link\n",
    "`*` indicates an executable\n",
    "\n",
    "Depending on your default options, the shell might also use colors to indicate whether each entry is a file or directory.\n",
    "```\n",
    "$ ls -F\n",
    "Applications/ Documents/    Library/      Music/        Public/\n",
    "Desktop/      Downloads/    Movies/       Pictures/\n",
    "```\n",
    "Here, we can see that our home directory contains mostly sub-directories. Any names in your output that don’t have a classification symbol, are plain old files."
   ]
  },
  {
   "cell_type": "markdown",
   "metadata": {},
   "source": [
    "### General syntax of a shell command\n",
    "Consider the command below as a general example of a command, which we will dissect into its component parts:\n",
    "```\n",
    "$ ls -F /\n",
    "```\n",
    "where: `ls` is the *command*, with an *option* `-F` and an *argument* `/`"
   ]
  },
  {
   "cell_type": "markdown",
   "metadata": {},
   "source": [
    "We’ve already encountered options (also called *switches* or *flags*) which either start with a single dash `-` or two dashes `--`, and they change the behaviour of a command. Arguments tell the command what to operate on (e.g. files and directories). Sometimes options and arguments are referred to as *parameters*. A command can be called with more than one option and more than one argument: but a command may not require any arguments or options.\n",
    "\n",
    "Each part is separated by spaces: if you omit the space between `ls` and `-F` the shell will look for a command called `ls-F`, which doesn’t exist. Also, capitalisation can be important: `ls -r` is different to `ls -R`\n",
    "\n",
    "Putting all that together, our command above gives us a listing of files and directories in the root directory `/`. An example of the output you might get from the above command is given below:\n",
    "```\n",
    "$ ls -F /\n",
    "Applications/         System/\n",
    "Library/              Users/\n",
    "Network/              Volumes/\n",
    "```"
   ]
  },
  {
   "cell_type": "markdown",
   "metadata": {},
   "source": [
    "### Getting help\n",
    "`ls` has lots of other options. There are two common ways to find out how to use a command and what options it accepts:\n",
    "\n",
    "We can pass a --help option to the command, such as:\n",
    "```\n",
    " $ ls --help\n",
    "```\n",
    "\n",
    "We can read its manual with man, such as:\n",
    "```\n",
    " $ man ls\n",
    "```\n",
    "Depending on your environment you might find that only one of these works (either `man` or `--help`). We’ll describe both ways below."
   ]
  },
  {
   "cell_type": "markdown",
   "metadata": {},
   "source": [
    "#### The `--help` option\n",
    "Many shell commands, and programs that people have written that can be run from within bash, support a `--help` option to display more information on how to use the command or program.\n",
    "```\n",
    "$ ls --help\n",
    "Usage: ls [OPTION]... [FILE]...\n",
    "List information about the FILEs (the current directory by default).\n",
    "Sort entries alphabetically if none of -cftuvSUX nor --sort is specified.\n",
    "\n",
    "Mandatory arguments to long options are mandatory for short options too.\n",
    "  -a, --all                  do not ignore entries starting with .\n",
    "  -A, --almost-all           do not list implied . and ..\n",
    "      --author               with -l, print the author of each file\n",
    "  -b, --escape               print C-style escapes for nongraphic characters\n",
    "  ...\n",
    "```"
   ]
  },
  {
   "cell_type": "markdown",
   "metadata": {},
   "source": [
    "If you try to use an option (flag) that is not supported, `ls` and other commands will usually print an error message similar to:\n",
    "```\n",
    "$ ls -j\n",
    "ls: invalid option -- 'j'\n",
    "Try 'ls --help' for more information.\n",
    "\n",
    "```"
   ]
  },
  {
   "cell_type": "markdown",
   "metadata": {},
   "source": [
    "#### Using the `man` command\n",
    "\n",
    "The man command\n",
    "The other way to learn about ls is to type\n",
    "```\n",
    "$ man ls\n",
    "```\n",
    "\n",
    "This will turn your terminal into a page with a description of the `ls` command and its options and, if you’re lucky, some examples of how to use it.\n",
    "\n",
    "To navigate through the man pages, you may use `↑` and `↓` to move line-by-line, or try `B` and `Spacebar` to skip up and down by a full page. To search for a character or word in the man pages, use `/` followed by the character or word you are searching for. Sometimes a search will result in multiple hits. If so, you can move between hits using `N` (for moving forward) and `Shift+N` (for moving backward).\n",
    "\n",
    "To quit the man pages, press `Q`."
   ]
  },
  {
   "cell_type": "markdown",
   "metadata": {},
   "source": [
    "#### Manual pages on the web\n",
    "Of course there is a third way to access help for commands: searching the internet via your web browser. When using internet search, including the phrase `unix man page` in your search query will help to find relevant results.\n",
    "\n",
    "GNU provides links to its manuals including the core GNU utilities, which covers many commands introduced within this lesson."
   ]
  },
  {
   "cell_type": "markdown",
   "metadata": {},
   "source": [
    "## Exercises"
   ]
  },
  {
   "cell_type": "markdown",
   "metadata": {},
   "source": [
    "---"
   ]
  },
  {
   "cell_type": "markdown",
   "metadata": {},
   "source": [
    "### Exploring more `ls` mlags\n",
    "You can also use two options at the same time. What does the command `ls` do when used with the `-l` option? What about if you use both the `-l` and the `-h`option?\n",
    "\n",
    "Some of its output is about properties that we do not cover in this lesson (such as file permissions and ownership), but the rest should be useful nevertheless."
   ]
  },
  {
   "cell_type": "markdown",
   "metadata": {},
   "source": [
    "#### Solution\n",
    "The `-l` option makes `l`s use a long listing format, showing not only the file/directory names but also additional information such as the file size and the time of its last modification. If you use both the `-h` option and the `-l` option, this makes the file size *human readable*, i.e. displaying something like `5.3K` instead of `5369`."
   ]
  },
  {
   "cell_type": "markdown",
   "metadata": {},
   "source": [
    "### Listing Recursively and By Time\n",
    "The command `ls -R` lists the contents of directories recursively, i.e., lists their sub-directories, sub-sub-directories, and so on at each level. The command `ls -t` lists things by time of last change, with most recently changed files or directories first. In what order does `ls -R -t` display things? Hint: `ls -l` uses a long listing format to view timestamps."
   ]
  },
  {
   "cell_type": "markdown",
   "metadata": {},
   "source": [
    "Solution\n",
    "The files/directories in each directory are sorted by time of last change."
   ]
  },
  {
   "cell_type": "markdown",
   "metadata": {},
   "source": [
    "---"
   ]
  },
  {
   "cell_type": "markdown",
   "metadata": {},
   "source": [
    "### Listing directories\n",
    "We can also use `ls` to see the contents of a different directory. Let’s take a look at our `lessons` directory by running `ls -F lessons`, i.e., the command `ls` with the `-F` option and the argument Desktop. The argument `lessons` tells ls that we want a listing of something other than our current working directory:\n",
    "```\n",
    "$ ls -F lessons/shell\n",
    "git/  python/  shell/\n",
    "```\n",
    "Your output should be a list of all the files and sub-directories on your `lessons` directory, Take a look at your `lessons` to confirm that your output is accurate."
   ]
  },
  {
   "cell_type": "markdown",
   "metadata": {},
   "source": [
    "### Hierarchical File System\n",
    "As you may now see, using a bash shell is strongly dependent on the idea that your files are organized in a hierarchical file system. Organizing things hierarchically in this way helps us keep track of our work: it’s possible to put hundreds of files in our home directory, just as it’s possible to pile hundreds of printed papers on our desk, but it’s a self-defeating strategy.\n",
    "\n",
    "Now that we know the `shell` directory is located on our `lessons` directory, we can do two things.\n",
    "\n",
    "First, we can look at its contents, using the same strategy as before, passing a directory name to ls:\n",
    "```\n",
    "$ ls -F lessons/shell/data-shell\n",
    "creatures/          molecules/          notes.txt           solar.pdf\n",
    "data/               north-pacific-gyre/ pizza.cfg           writing/\n",
    "```\n",
    "Alternativelt, we can actually change our location to a different directory, so we are no longer located in our home directory."
   ]
  },
  {
   "cell_type": "markdown",
   "metadata": {},
   "source": [
    "### Changing Directory\n",
    "The command to change locations is `cd` followed by a directory name to change our working directory. `cd` stands for *change directory*, which is a slightly misleading: the command doesn’t change the directory, it changes the shell’s idea of what directory we are in.\n",
    "\n",
    "Let’s say we want to change to the data directory we saw above. We can use the following series of commands to get there:\n",
    "```\n",
    "$ cd lessons\n",
    "$ cd shell\n",
    "$ cd data-shell\n",
    "$ cd data\n",
    "```"
   ]
  },
  {
   "cell_type": "markdown",
   "metadata": {},
   "source": [
    "These `cd` commands will move us from our home directory onto our `lessons`, then into the `shel`l directory, then into the `data-shell` directory, then finally into the `data` directory. You will notice that `cd` doesn’t print anything. This is normal. Many shell commands will not output anything to the screen when successfully executed. But if we run `pwd` after it, we can see that we are now in `/home/jovyan/lessons/shell/data-shell/data`. If we run `ls` without arguments now, it lists the contents of `/home/jovyan/lessons/shell/data-shell/data`, because that’s where we now are:\n",
    "```\n",
    "$ pwd\n",
    "/home/jovyan/lessons/shell/data-shell/data\n",
    "$ ls -F\n",
    "amino-acids.txt   elements/     pdb/\t        salmon.txt\n",
    "animals.txt       morse.txt     planets.txt     sunspot.txt\n",
    "```"
   ]
  },
  {
   "cell_type": "markdown",
   "metadata": {},
   "source": [
    "We now know how to go down the directory tree, but how do we go up? We might try the following:\n",
    "```\n",
    "$ cd data-shell\n",
    "-bash: cd: data-shell: No such file or directory\n",
    "```\n",
    "But we get an error! Why is this?"
   ]
  },
  {
   "cell_type": "markdown",
   "metadata": {},
   "source": [
    "With our methods so far, `cd` can only see sub-directories inside your current directory. There are different ways to see directories above your current location; we’ll start with the simplest.\n",
    "\n",
    "There is a shortcut in the shell to move up one directory level that looks like this:\n",
    "```\n",
    "$ cd ..\n",
    "```"
   ]
  },
  {
   "cell_type": "markdown",
   "metadata": {},
   "source": [
    "`..` is a special directory name meaning “the directory containing this one”, or more succinctly, the parent of the current directory. Sure enough, if we run `pwd` after running `cd ..`, we’re back in `/home/jovyan/lessons/shell/data-shell`:\n",
    "```\n",
    "$ pwd\n",
    "/home/jovyan/lessons/shell/data-shell\n",
    "```"
   ]
  },
  {
   "cell_type": "markdown",
   "metadata": {},
   "source": [
    "The special directory `..` doesn’t usually show up when we run `ls`. If we want to display it, we can give `ls` the `-a` option:\n",
    "```\n",
    "$ ls -F -a\n",
    "./   .bash_profile  data/       north-pacific-gyre/  pizza.cfg  thesis/\n",
    "../  creatures/     molecules/  notes.txt            solar.pdf  writing/\n",
    "```\n",
    "`-a` stands for “show all”; it forces `ls` to show us file and directory names that begin with `.`, such as `..`. \n",
    "As you can see, it also displays another special directory called just `.`, which means “the current working directory”. \n",
    "It may seem redundant to have a name for it, but we’ll see some uses for it soon.\n",
    "\n",
    "Note that in most command line tools, multiple options can be combined with a single - and no spaces between the options: `ls -F -a` is equivalent to `ls -Fa`."
   ]
  },
  {
   "cell_type": "markdown",
   "metadata": {},
   "source": [
    "### Other Hidden Files\n",
    "In addition to the hidden directories `.`. and `.`, you may also see a file called `.bash_profile`. This file usually contains shell configuration settings. You may also see other files and directories beginning with `.`. These are usually files and directories that are used to configure different programs on your computer. The prefix `.` is used to prevent these configuration files from cluttering the terminal when a standard ``ls command is used."
   ]
  },
  {
   "cell_type": "markdown",
   "metadata": {},
   "source": [
    "### Orthogonality\n",
    "The special names `.` and `..` don’t belong to `cd`; they are interpreted the same way by every program. \n",
    "For example, if we are in `/home/jovyan/lessons/shell/data-shell`, the command `ls ..` will give us a listing of `/home/jovyan/lessons/shell`. \n",
    "When the meanings of the parts are the same no matter how they’re combined, programmers say they are *orthogonal*: Orthogonal systems tend to be easier for people to learn because there are fewer special cases and exceptions to keep track of."
   ]
  },
  {
   "cell_type": "markdown",
   "metadata": {},
   "source": [
    "### so far ...\n",
    "These then, are the basic commands for navigating the filesystem on your computer: \n",
    "- `ls` \n",
    "- `cd` \n",
    "- `pwd`"
   ]
  },
  {
   "cell_type": "markdown",
   "metadata": {},
   "source": [
    "### Now for some variations\n",
    "Let’s explore some variations on those commands. What happens if you type `cd` on its own, without giving a directory?\n",
    "```\n",
    "$ cd\n",
    "```\n",
    "How can you check what happened? pwd gives us the answer!\n",
    "```\n",
    "$ pwd\n",
    "/home/jovyan/\n",
    "```\n",
    "It turns out that `cd` without an argument will return you to your home directory, which is great if you’ve gotten lost in your own filesystem."
   ]
  },
  {
   "cell_type": "markdown",
   "metadata": {},
   "source": [
    "Let’s try returning to the data directory from before. \n",
    "\n",
    "Last time, we used three commands, but we can actually string together the list of directories to move to data in one step:\n",
    "```\n",
    "$ cd lessons/shell/data-shell/data\n",
    "```\n",
    "Check that we’ve moved to the right place by running `pwd` and `ls -F`"
   ]
  },
  {
   "cell_type": "markdown",
   "metadata": {},
   "source": [
    "If we want to move up one level from the data directory, we could use `cd ..`. But there is another way to move to any directory, regardless of your current location.\n",
    "\n",
    "So far, when specifying directory names, or even a directory path (as above), we have been using *relative paths*. When you use a relative path with a command like `ls` or `cd`, it tries to find that location relative to where we are, rather than from the root of the file system.\n",
    "\n",
    "However, it is possible to specify the absolute path to a directory by including its entire path from the root directory, by including a leading slash. The leading `/` tells the computer to follow the path from the root of the file system, so it always refers to exactly one directory, no matter where we are when we run the command.\n",
    "\n",
    "This allows us to move to our data-shell directory from anywhere on the filesystem (including from inside data). To find the absolute path we’re looking for, we can use `pwd` and then extract the piece we need to move to data-shell.\n",
    "```\n",
    "$ pwd\n",
    "/home/jovyan/lessons/shell/data-shell/data\n",
    "$ cd /home/jovyan/lessons/shell/data-shell/data\n",
    "```\n",
    "Run pwd and `ls -F` to ensure that we’re in the directory we expect."
   ]
  },
  {
   "cell_type": "markdown",
   "metadata": {},
   "source": [
    "### Two More Shortcuts\n",
    "The shell interprets the character `~` (tilde) at the start of a path to mean “the current user’s home directory”. For example, if your home directory is /home/jovyan, then ~/lessons is equivalent to /home/jovyan/lessons. This only works if it is the first character in the path: `here/there/~/elsewhere` is not `here/there//home/jovyan/elsewhere`.\n",
    "\n",
    "Another shortcut is the `-` (dash) character. `cd` will translate `-` into the \"previous directory I was in\", which is faster than having to remember, then type, the full path. This is a very efficient way of moving back and forth between directories. The difference between `cd ..` and `cd -` is that the former brings you up, while the latter brings you back. You can think of it as the Last Channel button on a TV remote."
   ]
  },
  {
   "cell_type": "markdown",
   "metadata": {},
   "source": [
    "## Exercises\n",
    "---"
   ]
  },
  {
   "cell_type": "markdown",
   "metadata": {},
   "source": [
    "### Absolute vs Relative Paths\n",
    "Starting from `/Users/amanda/data`, which of the following commands could Amanda use to navigate to her home directory, which is `/Users/amanda`?\n",
    "\n",
    "Commands:\n",
    "\n",
    "`cd .`\n",
    "\n",
    "`cd /`\n",
    "\n",
    "`cd /home/amanda`\n",
    "\n",
    "`cd ../..`\n",
    "\n",
    "`cd ~`\n",
    "\n",
    "`cd home`\n",
    "\n",
    "`cd ~/data/..`\n",
    "\n",
    "`cd`\n",
    "\n",
    "`cd ..`"
   ]
  },
  {
   "cell_type": "markdown",
   "metadata": {},
   "source": [
    "#### Solution\n",
    "\n",
    "No: `.` stands for the current directory.\n",
    "\n",
    "No: `/` stands for the root directory.\n",
    "\n",
    "No: Amanda’s home directory is `/Users/amanda`.\n",
    "\n",
    "No: this goes up two levels, i.e. ends in `/Users`.\n",
    "\n",
    "Yes: `~` stands for the user’s home directory, in this case `/Users/amanda`.\n",
    "\n",
    "No: this would navigate into a directory home in the current directory if it exists.\n",
    "\n",
    "Yes: unnecessarily complicated, but correct.\n",
    "\n",
    "Yes: shortcut to go back to the user’s home directory.\n",
    "\n",
    "Yes: goes up one level."
   ]
  },
  {
   "cell_type": "markdown",
   "metadata": {},
   "source": [
    "### Relative Path Resolution\n",
    "Using the filesystem diagram below:\n",
    "```\n",
    "Users\n",
    "└── Users\n",
    "    ├── backup\n",
    "    │   ├── original\n",
    "    │   ├── pnas_final\n",
    "    │   └── pnas_sub\n",
    "    └── thing\n",
    "        └── backup\n",
    "            ├── 2012-12-01\n",
    "            ├── 2013-01-08\n",
    "            └── 2013-01-27\n",
    "```\n",
    "if `pwd` displays `/Users/thing`, what will `ls -F ../backup` display?\n",
    "\n",
    "Possible Answers:\n",
    "```\n",
    "../backup: No such file or directory\n",
    "2012-12-01 2013-01-08 2013-01-27\n",
    "2012-12-01/ 2013-01-08/ 2013-01-27/\n",
    "original/ pnas_final/ pnas_sub/\n",
    "```"
   ]
  },
  {
   "cell_type": "markdown",
   "metadata": {},
   "source": [
    "#### Solution\n",
    "No: there is a directory backup in `/Users`.\n",
    "\n",
    "No: this is the content of `Users/thing/backup`, but with `.`. we asked for one level further up.\n",
    "\n",
    "No: see previous explanation.\n",
    "\n",
    "Yes: `../backup/` refers to `/Users/backup/`."
   ]
  },
  {
   "cell_type": "markdown",
   "metadata": {},
   "source": [
    "`ls` Reading Comprehension\n",
    "Using the filesystem diagram below:\n",
    "```\n",
    "Users\n",
    "└── Users\n",
    "    ├── backup\n",
    "    │   ├── original\n",
    "    │   ├── pnas_final\n",
    "    │   └── pnas_sub\n",
    "    └── thing\n",
    "        └── backup\n",
    "            ├── 2012-12-01\n",
    "            ├── 2013-01-08\n",
    "            └── 2013-01-27\n",
    "```           \n",
    "if `pwd` displays `/Users/backup`, and `-r` tells `ls` to display things in reverse order, what command(s) will result in the following output:\n",
    "```\n",
    "pnas_sub/ pnas_final/ original/\n",
    "```\n",
    "Possible Answers:\n",
    "```\n",
    "ls pwd\n",
    "ls -r -F\n",
    "ls -r -F /Users/backup\n",
    "```"
   ]
  },
  {
   "cell_type": "markdown",
   "metadata": {},
   "source": [
    "#### Solution\n",
    "No: `pwd` is not the name of a directory.\n",
    "\n",
    "Yes: `ls` without directory argument lists files and directories in the current directory.\n",
    "\n",
    "Yes: uses the absolute path explicitly."
   ]
  },
  {
   "cell_type": "markdown",
   "metadata": {},
   "source": [
    "---"
   ]
  },
  {
   "cell_type": "markdown",
   "metadata": {},
   "source": [
    "### Nelle’s Pipeline: \n",
    "\n",
    "#### Organizing Files\n",
    "\n",
    "Knowing just this much about files and directories, Nelle is ready to organize the files that the protein assay machine will create. First, she creates a directory called `north-pacific-gyre` (to remind herself where the data came from). Inside that, she creates a directory called `2012-07-03`, which is the date she started processing the samples. She used to use names like conference-paper and revised-results, but she found them hard to understand after a couple of years. (The final straw was when she found herself creating a directory called `revised-revised-results-3`.)\n",
    "\n",
    "#### Sorting Output\n",
    "\n",
    "Nelle names her directories “year-month-day”, with leading zeroes for months and days, because the shell displays file and directory names in alphabetical order. If she used month names, December would come before July; if she didn’t use leading zeroes, November (‘11’) would come before July (‘7’). Similarly, putting the year first means that June 2012 will come before June 2013.\n",
    "\n",
    "Each of her physical samples is labelled according to her lab’s convention with a unique ten-character ID, such as “NENE01729A”. This is what she used in her collection log to record the location, time, depth, and other characteristics of the sample, so she decides to use it as part of each data file’s name. Since the assay machine’s output is plain text, she will call her files `NENE01729A.txt`, `NENE01812A.txt`, and so on. All 1520 files will go into the same directory."
   ]
  },
  {
   "cell_type": "markdown",
   "metadata": {},
   "source": [
    "Now in her current directory `data-shell`, Nelle can see what files she has using the command:\n",
    "```\n",
    "$ ls north-pacific-gyre/2012-07-03/\n",
    "```"
   ]
  },
  {
   "cell_type": "markdown",
   "metadata": {},
   "source": [
    "This is a lot to type, but she can let the shell do most of the work through what is called tab completion. If she types:\n",
    "```\n",
    "$ ls nor\n",
    "```"
   ]
  },
  {
   "cell_type": "markdown",
   "metadata": {},
   "source": [
    "and then presses `Tab` (the tab key on her keyboard), the shell automatically completes the directory name for her:\n",
    "```\n",
    "$ ls north-pacific-gyre/\n",
    "```"
   ]
  },
  {
   "cell_type": "markdown",
   "metadata": {},
   "source": [
    "If she presses `Tab` again, Bash will add `2012-07-03/` to the command:\n",
    "```\n",
    "$ ls north-pacific-gyre/2012-07-03/\n",
    "```\n",
    "since it’s the only possible completion. Pressing `Tab` again does nothing, since there are 19 possibilities; pressing `Tab` twice brings up a list of all the files, and so on. This is called *tab completion*, and we will see it in many other tools as we go on."
   ]
  },
  {
   "cell_type": "markdown",
   "metadata": {},
   "source": [
    "## Key Points\n",
    "- The file system is responsible for managing information on the disk.\n",
    "\n",
    "- Information is stored in files, which are stored in directories (folders).\n",
    "\n",
    "- Directories can also store other directories, which forms a directory tree.\n",
    "\n",
    "- `cd` path changes the current working directory.\n",
    "\n",
    "- `ls` path prints a listing of a specific file or directory; `ls` on its own lists the current working directory.\n",
    "\n",
    "- `pwd` prints the user’s current working directory.\n",
    "\n",
    "- `/` on its own is the root directory of the whole file system.\n",
    "\n",
    "- A relative path specifies a location starting from the current location.\n",
    "\n",
    "- An absolute path specifies a location from the root of the file system.\n",
    "\n",
    "- Directory names in a path are separated with `/` on Unix, but `\\` on Windows.\n",
    "\n",
    "- `..` means ‘the directory above the current one’; `.` means ‘the current directory’."
   ]
  }
 ],
 "metadata": {
  "kernelspec": {
   "display_name": "Python 3",
   "language": "python",
   "name": "python3"
  },
  "language_info": {
   "codemirror_mode": {
    "name": "ipython",
    "version": 3
   },
   "file_extension": ".py",
   "mimetype": "text/x-python",
   "name": "python",
   "nbconvert_exporter": "python",
   "pygments_lexer": "ipython3",
   "version": "3.7.3"
  }
 },
 "nbformat": 4,
 "nbformat_minor": 2
}
